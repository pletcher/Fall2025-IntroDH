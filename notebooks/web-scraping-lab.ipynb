{
 "cells": [
  {
   "cell_type": "code",
   "execution_count": 3,
   "id": "1aa74f66",
   "metadata": {},
   "outputs": [
    {
     "name": "stdout",
     "output_type": "stream",
     "text": [
      "Hello, class!\n"
     ]
    }
   ],
   "source": [
    "print(\"Hello, class!\")"
   ]
  },
  {
   "cell_type": "code",
   "execution_count": 20,
   "id": "7a620813",
   "metadata": {},
   "outputs": [],
   "source": [
    "author = \"William Mattingly\""
   ]
  },
  {
   "cell_type": "code",
   "execution_count": 30,
   "id": "442ea905",
   "metadata": {},
   "outputs": [],
   "source": [
    "my_list = [1, 2, 3]\n",
    "my_list += [4, 5, 6]"
   ]
  },
  {
   "cell_type": "code",
   "execution_count": 31,
   "id": "45067105",
   "metadata": {},
   "outputs": [
    {
     "data": {
      "text/plain": [
       "[1, 2, 3, 4, 5, 6]"
      ]
     },
     "execution_count": 31,
     "metadata": {},
     "output_type": "execute_result"
    }
   ],
   "source": [
    "my_list"
   ]
  },
  {
   "cell_type": "code",
   "execution_count": 35,
   "id": "85c55d24",
   "metadata": {},
   "outputs": [],
   "source": [
    "my_tuple = (1, 2, 3)"
   ]
  },
  {
   "cell_type": "code",
   "execution_count": 39,
   "id": "0aa045c9",
   "metadata": {},
   "outputs": [],
   "source": [
    "my_list[0] = 4"
   ]
  },
  {
   "cell_type": "code",
   "execution_count": 40,
   "id": "ffa4c6e8",
   "metadata": {},
   "outputs": [
    {
     "data": {
      "text/plain": [
       "[4, 2, 3, 4, 5, 6]"
      ]
     },
     "execution_count": 40,
     "metadata": {},
     "output_type": "execute_result"
    }
   ],
   "source": [
    "my_list"
   ]
  },
  {
   "cell_type": "code",
   "execution_count": 42,
   "id": "b3241432",
   "metadata": {},
   "outputs": [
    {
     "data": {
      "text/plain": [
       "{1, 2, 3}"
      ]
     },
     "execution_count": 42,
     "metadata": {},
     "output_type": "execute_result"
    }
   ],
   "source": [
    "{1, 2, 3, 3}"
   ]
  },
  {
   "cell_type": "code",
   "execution_count": 43,
   "id": "d356f561",
   "metadata": {},
   "outputs": [],
   "source": [
    "my_dict = {\"name\": \"tom\"}"
   ]
  },
  {
   "cell_type": "code",
   "execution_count": 45,
   "id": "36de545c",
   "metadata": {},
   "outputs": [],
   "source": [
    "my_dict = {author: \"tom\"}"
   ]
  },
  {
   "cell_type": "code",
   "execution_count": 46,
   "id": "75db47d1",
   "metadata": {},
   "outputs": [
    {
     "data": {
      "text/plain": [
       "{'William Mattingly': 'tom'}"
      ]
     },
     "execution_count": 46,
     "metadata": {},
     "output_type": "execute_result"
    }
   ],
   "source": [
    "my_dict"
   ]
  },
  {
   "cell_type": "code",
   "execution_count": 47,
   "id": "21cfc76e",
   "metadata": {},
   "outputs": [],
   "source": [
    "my_string = \"This is a very fancy string 🎉\""
   ]
  },
  {
   "cell_type": "code",
   "execution_count": 48,
   "id": "d3863395",
   "metadata": {},
   "outputs": [],
   "source": [
    "my_long_string = \"\"\"\n",
    "This is a long, multi-line\n",
    "string.\n",
    "\"\"\""
   ]
  },
  {
   "cell_type": "code",
   "execution_count": 76,
   "id": "cb3bcc2c",
   "metadata": {},
   "outputs": [
    {
     "name": "stdout",
     "output_type": "stream",
     "text": [
      "this\n",
      "is\n",
      "a\n",
      "very\n",
      "fancy\n",
      "string\n",
      "🎉\n"
     ]
    }
   ],
   "source": [
    "for t in my_string.split():\n",
    "    print(t.lower())"
   ]
  },
  {
   "cell_type": "markdown",
   "id": "e4816329",
   "metadata": {},
   "source": [
    "## Web Scraping 101: User Agents"
   ]
  },
  {
   "cell_type": "code",
   "execution_count": 1,
   "id": "97f09b9c",
   "metadata": {},
   "outputs": [
    {
     "name": "stdout",
     "output_type": "stream",
     "text": [
      "Collecting requests\n",
      "  Downloading requests-2.32.5-py3-none-any.whl.metadata (4.9 kB)\n",
      "Collecting lxml\n",
      "  Downloading lxml-6.0.2-cp313-cp313-macosx_10_13_universal2.whl.metadata (3.6 kB)\n",
      "Collecting bs4\n",
      "  Downloading bs4-0.0.2-py2.py3-none-any.whl.metadata (411 bytes)\n",
      "Collecting charset_normalizer<4,>=2 (from requests)\n",
      "  Downloading charset_normalizer-3.4.4-cp313-cp313-macosx_10_13_universal2.whl.metadata (37 kB)\n",
      "Collecting idna<4,>=2.5 (from requests)\n",
      "  Downloading idna-3.11-py3-none-any.whl.metadata (8.4 kB)\n",
      "Collecting urllib3<3,>=1.21.1 (from requests)\n",
      "  Using cached urllib3-2.5.0-py3-none-any.whl.metadata (6.5 kB)\n",
      "Collecting certifi>=2017.4.17 (from requests)\n",
      "  Downloading certifi-2025.10.5-py3-none-any.whl.metadata (2.5 kB)\n",
      "Collecting beautifulsoup4 (from bs4)\n",
      "  Downloading beautifulsoup4-4.14.2-py3-none-any.whl.metadata (3.8 kB)\n",
      "Collecting soupsieve>1.2 (from beautifulsoup4->bs4)\n",
      "  Downloading soupsieve-2.8-py3-none-any.whl.metadata (4.6 kB)\n",
      "Collecting typing-extensions>=4.0.0 (from beautifulsoup4->bs4)\n",
      "  Downloading typing_extensions-4.15.0-py3-none-any.whl.metadata (3.3 kB)\n",
      "Downloading requests-2.32.5-py3-none-any.whl (64 kB)\n",
      "Downloading charset_normalizer-3.4.4-cp313-cp313-macosx_10_13_universal2.whl (208 kB)\n",
      "Downloading idna-3.11-py3-none-any.whl (71 kB)\n",
      "Using cached urllib3-2.5.0-py3-none-any.whl (129 kB)\n",
      "Downloading lxml-6.0.2-cp313-cp313-macosx_10_13_universal2.whl (8.6 MB)\n",
      "\u001b[2K   \u001b[38;2;114;156;31m━━━━━━━━━━━━━━━━━━━━━━━━━━━━━━━━━━━━━━━━\u001b[0m \u001b[32m8.6/8.6 MB\u001b[0m \u001b[31m43.2 MB/s\u001b[0m  \u001b[33m0:00:00\u001b[0m\n",
      "\u001b[?25hDownloading bs4-0.0.2-py2.py3-none-any.whl (1.2 kB)\n",
      "Downloading certifi-2025.10.5-py3-none-any.whl (163 kB)\n",
      "Downloading beautifulsoup4-4.14.2-py3-none-any.whl (106 kB)\n",
      "Downloading soupsieve-2.8-py3-none-any.whl (36 kB)\n",
      "Downloading typing_extensions-4.15.0-py3-none-any.whl (44 kB)\n",
      "Installing collected packages: urllib3, typing-extensions, soupsieve, lxml, idna, charset_normalizer, certifi, requests, beautifulsoup4, bs4\n",
      "\u001b[2K   \u001b[38;2;114;156;31m━━━━━━━━━━━━━━━━━━━━━━━━━━━━━━━━━━━━━━━━\u001b[0m \u001b[32m10/10\u001b[0m [bs4]━━━━━\u001b[0m \u001b[32m 3/10\u001b[0m [lxml]\n",
      "\u001b[1A\u001b[2KSuccessfully installed beautifulsoup4-4.14.2 bs4-0.0.2 certifi-2025.10.5 charset_normalizer-3.4.4 idna-3.11 lxml-6.0.2 requests-2.32.5 soupsieve-2.8 typing-extensions-4.15.0 urllib3-2.5.0\n",
      "Note: you may need to restart the kernel to use updated packages.\n"
     ]
    }
   ],
   "source": [
    "%pip install requests lxml bs4"
   ]
  },
  {
   "cell_type": "code",
   "execution_count": 25,
   "id": "cd72efb0",
   "metadata": {},
   "outputs": [],
   "source": [
    "import requests\n",
    "import time\n",
    "\n",
    "from bs4 import BeautifulSoup\n",
    "\n",
    "def get_page(url: str):\n",
    "    return requests.get(url, headers={\"User-Agent\": \"YOUR USER AGENT STRING HERE\"})\n",
    "\n",
    "def get_body(soup: BeautifulSoup):\n",
    "    return soup.find(\"div\", {\"id\": \"bodyContent\"})\n",
    "\n",
    "def get_links(soup: BeautifulSoup):\n",
    "    body = get_body(soup)\n",
    "    \n",
    "    if body:\n",
    "        return body.find_all(\"a\")\n",
    "\n",
    "response = get_page(\"https://en.wikipedia.org/wiki/Broccoli\")"
   ]
  },
  {
   "cell_type": "code",
   "execution_count": 26,
   "id": "8cf82f8c",
   "metadata": {},
   "outputs": [],
   "source": [
    "soup = BeautifulSoup(response.content)\n",
    "\n",
    "links = get_links(soup)"
   ]
  },
  {
   "cell_type": "code",
   "execution_count": 27,
   "id": "5802e942",
   "metadata": {},
   "outputs": [
    {
     "data": {
      "text/plain": [
       "{'title': 'Broccoli'}"
      ]
     },
     "execution_count": 27,
     "metadata": {},
     "output_type": "execute_result"
    }
   ],
   "source": [
    "def get_title(page: BeautifulSoup):\n",
    "    main_title = page.find(attrs={\"class\": \"mw-page-title-main\"})\n",
    "\n",
    "    if main_title:\n",
    "        return main_title.text\n",
    "    \n",
    "my_dictionary_page = {}\n",
    "\n",
    "my_dictionary_page[\"title\"] = get_title(soup)\n",
    "\n",
    "my_dictionary_page\n"
   ]
  },
  {
   "cell_type": "code",
   "execution_count": 28,
   "id": "532ef9a4",
   "metadata": {},
   "outputs": [],
   "source": [
    "def get_content(page: BeautifulSoup):\n",
    "    body = get_body(page)\n",
    "\n",
    "    if body:\n",
    "        first_p = body.find(\"p\")\n",
    "        print(first_p)\n",
    "        return first_p"
   ]
  },
  {
   "cell_type": "code",
   "execution_count": 29,
   "id": "dff942fe",
   "metadata": {},
   "outputs": [
    {
     "name": "stdout",
     "output_type": "stream",
     "text": [
      "<p class=\"mw-empty-elt\">\n",
      "</p>\n"
     ]
    },
    {
     "data": {
      "text/plain": [
       "<p class=\"mw-empty-elt\">\n",
       "</p>"
      ]
     },
     "execution_count": 29,
     "metadata": {},
     "output_type": "execute_result"
    }
   ],
   "source": [
    "get_content(soup)"
   ]
  }
 ],
 "metadata": {
  "kernelspec": {
   "display_name": ".venv",
   "language": "python",
   "name": "python3"
  },
  "language_info": {
   "codemirror_mode": {
    "name": "ipython",
    "version": 3
   },
   "file_extension": ".py",
   "mimetype": "text/x-python",
   "name": "python",
   "nbconvert_exporter": "python",
   "pygments_lexer": "ipython3",
   "version": "3.13.8"
  }
 },
 "nbformat": 4,
 "nbformat_minor": 5
}
