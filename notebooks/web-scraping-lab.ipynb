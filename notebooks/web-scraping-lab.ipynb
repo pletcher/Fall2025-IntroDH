{
 "cells": [
  {
   "cell_type": "code",
   "execution_count": 3,
   "id": "1aa74f66",
   "metadata": {},
   "outputs": [
    {
     "name": "stdout",
     "output_type": "stream",
     "text": [
      "Hello, class!\n"
     ]
    }
   ],
   "source": [
    "print(\"Hello, class!\")"
   ]
  },
  {
   "cell_type": "code",
   "execution_count": 20,
   "id": "7a620813",
   "metadata": {},
   "outputs": [],
   "source": [
    "author = \"William Mattingly\""
   ]
  },
  {
   "cell_type": "code",
   "execution_count": 30,
   "id": "442ea905",
   "metadata": {},
   "outputs": [],
   "source": [
    "my_list = [1, 2, 3]\n",
    "my_list += [4, 5, 6]"
   ]
  },
  {
   "cell_type": "code",
   "execution_count": 31,
   "id": "45067105",
   "metadata": {},
   "outputs": [
    {
     "data": {
      "text/plain": [
       "[1, 2, 3, 4, 5, 6]"
      ]
     },
     "execution_count": 31,
     "metadata": {},
     "output_type": "execute_result"
    }
   ],
   "source": [
    "my_list"
   ]
  },
  {
   "cell_type": "code",
   "execution_count": 35,
   "id": "85c55d24",
   "metadata": {},
   "outputs": [],
   "source": [
    "my_tuple = (1, 2, 3)"
   ]
  },
  {
   "cell_type": "code",
   "execution_count": 39,
   "id": "0aa045c9",
   "metadata": {},
   "outputs": [],
   "source": [
    "my_list[0] = 4"
   ]
  },
  {
   "cell_type": "code",
   "execution_count": 40,
   "id": "ffa4c6e8",
   "metadata": {},
   "outputs": [
    {
     "data": {
      "text/plain": [
       "[4, 2, 3, 4, 5, 6]"
      ]
     },
     "execution_count": 40,
     "metadata": {},
     "output_type": "execute_result"
    }
   ],
   "source": [
    "my_list"
   ]
  },
  {
   "cell_type": "code",
   "execution_count": 42,
   "id": "b3241432",
   "metadata": {},
   "outputs": [
    {
     "data": {
      "text/plain": [
       "{1, 2, 3}"
      ]
     },
     "execution_count": 42,
     "metadata": {},
     "output_type": "execute_result"
    }
   ],
   "source": [
    "{1, 2, 3, 3}"
   ]
  },
  {
   "cell_type": "code",
   "execution_count": 43,
   "id": "d356f561",
   "metadata": {},
   "outputs": [],
   "source": [
    "my_dict = {\"name\": \"tom\"}"
   ]
  },
  {
   "cell_type": "code",
   "execution_count": 45,
   "id": "36de545c",
   "metadata": {},
   "outputs": [],
   "source": [
    "my_dict = {author: \"tom\"}"
   ]
  },
  {
   "cell_type": "code",
   "execution_count": 46,
   "id": "75db47d1",
   "metadata": {},
   "outputs": [
    {
     "data": {
      "text/plain": [
       "{'William Mattingly': 'tom'}"
      ]
     },
     "execution_count": 46,
     "metadata": {},
     "output_type": "execute_result"
    }
   ],
   "source": [
    "my_dict"
   ]
  },
  {
   "cell_type": "code",
   "execution_count": 47,
   "id": "21cfc76e",
   "metadata": {},
   "outputs": [],
   "source": [
    "my_string = \"This is a very fancy string 🎉\""
   ]
  },
  {
   "cell_type": "code",
   "execution_count": 48,
   "id": "d3863395",
   "metadata": {},
   "outputs": [],
   "source": [
    "my_long_string = \"\"\"\n",
    "This is a long, multi-line\n",
    "string.\n",
    "\"\"\""
   ]
  },
  {
   "cell_type": "code",
   "execution_count": 76,
   "id": "cb3bcc2c",
   "metadata": {},
   "outputs": [
    {
     "name": "stdout",
     "output_type": "stream",
     "text": [
      "this\n",
      "is\n",
      "a\n",
      "very\n",
      "fancy\n",
      "string\n",
      "🎉\n"
     ]
    }
   ],
   "source": [
    "for t in my_string.split():\n",
    "    print(t.lower())"
   ]
  },
  {
   "cell_type": "markdown",
   "id": "e4816329",
   "metadata": {},
   "source": [
    "## Web Scraping 101: User Agents"
   ]
  },
  {
   "cell_type": "code",
   "execution_count": 1,
   "id": "97f09b9c",
   "metadata": {},
   "outputs": [
    {
     "name": "stdout",
     "output_type": "stream",
     "text": [
      "Collecting requests\n",
      "  Downloading requests-2.32.5-py3-none-any.whl.metadata (4.9 kB)\n",
      "Collecting lxml\n",
      "  Downloading lxml-6.0.2-cp313-cp313-macosx_10_13_universal2.whl.metadata (3.6 kB)\n",
      "Collecting bs4\n",
      "  Downloading bs4-0.0.2-py2.py3-none-any.whl.metadata (411 bytes)\n",
      "Collecting charset_normalizer<4,>=2 (from requests)\n",
      "  Downloading charset_normalizer-3.4.4-cp313-cp313-macosx_10_13_universal2.whl.metadata (37 kB)\n",
      "Collecting idna<4,>=2.5 (from requests)\n",
      "  Downloading idna-3.11-py3-none-any.whl.metadata (8.4 kB)\n",
      "Collecting urllib3<3,>=1.21.1 (from requests)\n",
      "  Using cached urllib3-2.5.0-py3-none-any.whl.metadata (6.5 kB)\n",
      "Collecting certifi>=2017.4.17 (from requests)\n",
      "  Downloading certifi-2025.10.5-py3-none-any.whl.metadata (2.5 kB)\n",
      "Collecting beautifulsoup4 (from bs4)\n",
      "  Downloading beautifulsoup4-4.14.2-py3-none-any.whl.metadata (3.8 kB)\n",
      "Collecting soupsieve>1.2 (from beautifulsoup4->bs4)\n",
      "  Downloading soupsieve-2.8-py3-none-any.whl.metadata (4.6 kB)\n",
      "Collecting typing-extensions>=4.0.0 (from beautifulsoup4->bs4)\n",
      "  Downloading typing_extensions-4.15.0-py3-none-any.whl.metadata (3.3 kB)\n",
      "Downloading requests-2.32.5-py3-none-any.whl (64 kB)\n",
      "Downloading charset_normalizer-3.4.4-cp313-cp313-macosx_10_13_universal2.whl (208 kB)\n",
      "Downloading idna-3.11-py3-none-any.whl (71 kB)\n",
      "Using cached urllib3-2.5.0-py3-none-any.whl (129 kB)\n",
      "Downloading lxml-6.0.2-cp313-cp313-macosx_10_13_universal2.whl (8.6 MB)\n",
      "\u001b[2K   \u001b[38;2;114;156;31m━━━━━━━━━━━━━━━━━━━━━━━━━━━━━━━━━━━━━━━━\u001b[0m \u001b[32m8.6/8.6 MB\u001b[0m \u001b[31m43.2 MB/s\u001b[0m  \u001b[33m0:00:00\u001b[0m\n",
      "\u001b[?25hDownloading bs4-0.0.2-py2.py3-none-any.whl (1.2 kB)\n",
      "Downloading certifi-2025.10.5-py3-none-any.whl (163 kB)\n",
      "Downloading beautifulsoup4-4.14.2-py3-none-any.whl (106 kB)\n",
      "Downloading soupsieve-2.8-py3-none-any.whl (36 kB)\n",
      "Downloading typing_extensions-4.15.0-py3-none-any.whl (44 kB)\n",
      "Installing collected packages: urllib3, typing-extensions, soupsieve, lxml, idna, charset_normalizer, certifi, requests, beautifulsoup4, bs4\n",
      "\u001b[2K   \u001b[38;2;114;156;31m━━━━━━━━━━━━━━━━━━━━━━━━━━━━━━━━━━━━━━━━\u001b[0m \u001b[32m10/10\u001b[0m [bs4]━━━━━\u001b[0m \u001b[32m 3/10\u001b[0m [lxml]\n",
      "\u001b[1A\u001b[2KSuccessfully installed beautifulsoup4-4.14.2 bs4-0.0.2 certifi-2025.10.5 charset_normalizer-3.4.4 idna-3.11 lxml-6.0.2 requests-2.32.5 soupsieve-2.8 typing-extensions-4.15.0 urllib3-2.5.0\n",
      "Note: you may need to restart the kernel to use updated packages.\n"
     ]
    }
   ],
   "source": [
    "%pip install requests lxml bs4"
   ]
  },
  {
   "cell_type": "code",
   "execution_count": 25,
   "id": "cd72efb0",
   "metadata": {},
   "outputs": [],
   "source": [
    "import requests\n",
    "import time\n",
    "\n",
    "from bs4 import BeautifulSoup\n",
    "\n",
    "def get_page(url: str):\n",
    "    return requests.get(url, headers={\"User-Agent\": \"YOUR USER AGENT STRING HERE\"})\n",
    "\n",
    "def get_body(soup: BeautifulSoup):\n",
    "    return soup.find(\"div\", {\"id\": \"bodyContent\"})\n",
    "\n",
    "def get_links(soup: BeautifulSoup):\n",
    "    body = get_body(soup)\n",
    "    \n",
    "    if body:\n",
    "        return body.find_all(\"a\")\n",
    "\n",
    "response = get_page(\"https://en.wikipedia.org/wiki/Broccoli\")"
   ]
  },
  {
   "cell_type": "code",
   "execution_count": 26,
   "id": "8cf82f8c",
   "metadata": {},
   "outputs": [],
   "source": [
    "soup = BeautifulSoup(response.content)\n",
    "\n",
    "links = get_links(soup)"
   ]
  },
  {
   "cell_type": "code",
   "execution_count": 27,
   "id": "5802e942",
   "metadata": {},
   "outputs": [
    {
     "data": {
      "text/plain": [
       "{'title': 'Broccoli'}"
      ]
     },
     "execution_count": 27,
     "metadata": {},
     "output_type": "execute_result"
    }
   ],
   "source": [
    "def get_title(page: BeautifulSoup):\n",
    "    main_title = page.find(attrs={\"class\": \"mw-page-title-main\"})\n",
    "\n",
    "    if main_title:\n",
    "        return main_title.text\n",
    "    \n",
    "my_dictionary_page = {}\n",
    "\n",
    "my_dictionary_page[\"title\"] = get_title(soup)\n",
    "\n",
    "my_dictionary_page\n"
   ]
  },
  {
   "cell_type": "code",
   "execution_count": 28,
   "id": "532ef9a4",
   "metadata": {},
   "outputs": [],
   "source": [
    "def get_content(page: BeautifulSoup):\n",
    "    body = get_body(page)\n",
    "\n",
    "    if body:\n",
    "        first_p = body.find(\"p\")\n",
    "        print(first_p)\n",
    "        return first_p"
   ]
  },
  {
   "cell_type": "code",
   "execution_count": null,
   "id": "dff942fe",
   "metadata": {},
   "outputs": [
    {
     "data": {
      "text/plain": [
       "'\\n\\n\\n\\n\\nFrom Wikipedia, the free encyclopedia\\n\\n\\nEdible green plant in the cabbage family\\nFor other uses, see Broccoli (disambiguation).\\n\\n\\nBroccoliSpeciesBrassica oleraceaCultivar groupItalicaOriginItaly, more than 2,000 years ago[1][2]\\nBroccoli (Brassica oleracea var. italica) is an edible green plant in the cabbage family (family Brassicaceae, genus Brassica) whose large flowering head, stalk and small associated leaves are eaten as a vegetable. Broccoli is classified in the Italica cultivar group of the species Brassica oleracea. Broccoli has large flower heads, or florets, usually dark green, arranged in a tree-like structure branching out from a thick stalk, which is usually light green. Leaves surround the mass of flower heads. Broccoli resembles cauliflower, a different but closely related cultivar group of the same Brassica species.\\nIt can be eaten either raw or cooked. Broccoli is a particularly rich source of vitamin C and vitamin K. Contents of its characteristic sulfur-containing glucosinolate compounds, isothiocyanates and sulforaphane, are diminished by boiling but are better preserved by steaming, microwaving or stir-frying.[3]\\nRapini, sometimes called \"broccoli rabe\", is a distinct species from broccoli, forming similar but smaller heads, and is actually a type of turnip (Brassica rapa).[4]\\n\\nBroccoli plants in a nursery\\nClose-ups of broccoli florets (click to enlarge)\\n\\nTaxonomy\\nBrassica oleracea var. italica was described in 1794 by Joseph Jakob von Plenck in Icones Plantarum Medicinalium 6:29, t. 534.[5] Like all the other brassicas, broccoli was developed from the wild cabbage (Brassica oleracea var. oleracea), also called colewort or field cabbage.\\n\\nEtymology\\nThe word broccoli, first used in the 17th century, comes from the Italian plural of broccolo, which means \"the flowering crest of a cabbage\", and is the diminutive form of brocco, meaning \"small nail\" or \"sprout\".[6]\\n\\nHistory\\nBroccoli resulted from the breeding of landrace Brassica crops in the northern Mediterranean starting in about the sixth century BCE.[7] Broccoli has its origins in primitive cultivars grown in the Roman Empire and was most likely improved via artificial selection in the southern Italian Peninsula or in Sicily.[8][9][10] Broccoli was spread to northern Europe by the 18th century and brought to North America in the 19th century by Italian immigrants.[9] After the Second World War, the breeding of the United States and Japanese F1 hybrids increased yields, quality, growth speed, and regional adaptation, which produced the cultivars commonly grown since then: \\'Premium Crop\\', \\'Packman\\', and \\'Marathon\\'.[9]\\n\\nDescription\\nBroccoli flower\\nBroccoli is an annual cruciferous plant which can grow up to 60–90\\xa0cm (24–35\\xa0in) tall.[11]\\nBroccoli inflorescence grows at the end of a central, edible stem and is dark green.[11] Violet, yellow, or even white heads have been created, but these varieties are rare. The flowers are yellow with four petals.\\nThe growth season for broccoli is 14–15 weeks. Broccoli is collected by hand immediately after the head is fully formed yet the flowers are still in their bud stage. The plant develops numerous small  \"heads\" from the lateral shoots which can be harvested later.\\n\\nVarieties\\nThere are three commonly grown types of broccoli.[9] The most familiar is Calabrese broccoli, often referred to simply as \"broccoli\", named after Calabria in Italy. It has large 10-to-20-centimetre (4–8\\xa0in) green heads and thick stalks. It is a cool-season annual crop. Sprouting broccoli (white or purple) has a larger number of heads with many thin stalks.[12] Purple cauliflower or violet cauliflower is a type of broccoli grown in Europe and North America. It has a head shaped like cauliflower but consists of many tiny flower buds. Sometimes, but not always, it has a purple cast to the tips of the flower buds. Purple cauliflower may also be white, red, green, or other colors.[13]\\nBeneforté is a variety of broccoli containing 2–3 times more glucoraphanin and produced by crossing broccoli with a wild Brassica variety, Brassica oleracea var villosa.[14]\\n\\nOther cultivar groups of Brassica oleracea\\nMain article: Brassica oleracea §\\xa0Cultivar groups\\nOther cultivar groups of Brassica oleracea include cabbage (Capitata Group), cauliflower and Romanesco broccoli (Botrytis Group), kale (Acephala Group), collard (Viridis Group), kohlrabi (Gongylodes Group), Brussels sprouts (Gemmifera Group), and kai-lan (Alboglabra Group).[15] As these groups are the same species, they readily hybridize: for example, broccolini or \"Tenderstem broccoli\" is a cross between broccoli and kai-lan.[16] Broccoli cultivars form the genetic basis of the \"tropical cauliflowers\" commonly grown in South and Southeastern Asia, although they produce a more cauliflower-like head in warmer conditions.[17][9]\\n\\n\\n\\nBroccoli production 2023, millions of tonnes\\n\\n\\n\\xa0China\\n9.7\\n\\n\\n\\xa0India\\n9.5\\n\\n\\n\\xa0United States\\n1.1\\n\\n\\n\\xa0Mexico\\n0.8\\n\\n\\n\\xa0Spain\\n0.6\\n\\n\\nWorld\\n26.5\\n\\n\\nSource: FAOSTAT of the United Nations[18]\\n\\nCultivation\\nThe majority of broccoli cultivars are cool-weather crops that do poorly in hot summer weather. Broccoli grows best when exposed to an average daily temperature between 18 and 23\\xa0°C (64 and 73\\xa0°F).[19][20] When the cluster of flowers, also referred to as a \"head\" of broccoli, appears in the center of the plant, the cluster is generally green. Garden pruners or shears are used to cut the head about 25\\xa0mm (1\\xa0in) from the tip. Broccoli should be harvested before the flowers on the head bloom bright yellow.[21] Broccoli cannot be harvested using machines, but rather is hand-harvested.[22]\\n\\nProduction\\nIn 2023, global production of broccoli (combined for production reports with cauliflowers) was 26.5 million tonnes, with China and India together accounting for 65% of the world total (table). Secondary producers, each having about one million tonnes or less annually, were the United States, Mexico, and Spain.\\nIn the United States, broccoli is grown year-round in California – which produced 92% of the crop nationally – with 95% of the total crop produced for fresh sales in 2018.[23]\\n\\nBroccoli, rawNutritional value per 100\\xa0g (3.5\\xa0oz)Energy141\\xa0kJ (34\\xa0kcal)Carbohydrates6.64 gSugars1.7 gDietary fiber2.6 g\\nFat0.37 g\\nProtein2.82 g\\n\\n\\n\\nVitamins and minerals\\n\\nVitaminsQuantity %DV†Vitamin A equiv.beta-Carotenelutein zeaxanthin3% 31 μg3%361 μg1403 μgThiamine (B1)6% 0.071 mgRiboflavin (B2)9% 0.117 mgNiacin (B3)4% 0.639 mgPantothenic acid (B5)11% 0.573 mgVitamin B610% 0.175 mgFolate (B9)16% 63 μgCholine3% 19 mgVitamin C99% 89.2 mgVitamin E5% 0.78 mgVitamin K85% 101.6 μg\\nMineralsQuantity %DV†Calcium4% 47 mgIron4% 0.73 mgMagnesium5% 21 mgManganese9% 0.21 mgPhosphorus5% 66 mgPotassium11% 316 mgSodium1% 33 mgZinc4% 0.41 mg\\nOther constituentsQuantityWater89.3 g\\nLink to USDA Database entry†Percentages estimated using US\\xa0recommendations for adults,[24] except for potassium, which is estimated based on expert recommendation from the National Academies.[25]\\nNutrition\\nRaw broccoli is 89% water, 7% carbohydrates, 3% protein, and contains negligible fat (table). A 100-gram (3+1⁄2-ounce) reference amount of raw broccoli provides 141 kilojoules (34 kilocalories) of food energy and is a rich source (20% or higher of the Daily Value, DV) of vitamin C (99% DV) and vitamin K (85% DV) (table). Raw broccoli also contains moderate amounts (10–19% DV) of several B vitamins and the dietary mineral potassium, whereas other micronutrients are low in content (less than 10% DV). Broccoli contains the dietary carotenoid, beta-carotene.[26]\\n\\nCooking\\nSee also: List of broccoli dishes\\nBoiling substantially reduces the levels of broccoli glucosinolates, while other cooking methods, such as steaming, microwaving, and stir-frying, have no significant effect on glucosinolate levels.[3]\\n\\nTaste\\nThe perceived bitterness of cruciferous vegetables, such as broccoli, results from glucosinolates and their hydrolysis products, particularly isothiocyanates and other sulfur-containing compounds.[27] Preliminary research indicates that genetic inheritance through the gene TAS2R38 may be responsible in part for bitter taste perception in broccoli.[28]\\n\\nPests\\nThe larvae of Pieris rapae, also known as the \"small white\" butterfly, are a common pest in broccoli and were mostly introduced accidentally to North America, Australia, and New Zealand.[29]\\nAdditional pests common to broccoli production include:[30]\\n\\nAphids\\nCabbage looper\\nCabbage webworm\\nCross-striped cabbageworm\\nDiamondback moth\\nImported cabbageworm\\nCabbage maggot\\nHarlequin cabbage bug\\nGallery\\n\\n\\n\\nFurrow flood irrigation on a field of broccoli raised for seed in Yuma, Arizona.\\n\\n\\n\\nBroccoli in flower\\n\\n\\n\\nSicilian purple broccoli\\n\\n\\n\\nBroccoli \"giant\", whose flowering head and stalk can reach a kilo.\\n\\n\\nSee also\\n\\nAgriculture portalFood portal\\nBroccolini\\nEpicuticular wax\\nGeorge H. W. Bush broccoli comments; the 41st U.S. president famously disliked the vegetable\\nMicrogreen\\nReferences\\n\\n\\n^ Buck, P. A. (1956). \"Origin and taxonomy of broccoli\". Economic Botany. 10 (3): 250–253. Bibcode:1956EcBot..10..250B. doi:10.1007/bf02899000. S2CID\\xa031365713.\\n\\n^ Stephens, James. \"Broccoli—Brassica oleracea L. (Italica group)\". University of Florida. p.\\xa01. Archived from the original on 25 December 2018. Retrieved 14 May 2009.\\n\\n^ a b Nugrahedi, Probo Y.; Verkerk, Ruud; Widianarko, Budi; Dekker, Matthijs (2015). \"A Mechanistic Perspective on Process-Induced Changes in Glucosinolate Content in Brassica Vegetables: A Review\". Critical Reviews in Food Science and Nutrition. 55 (6): 823–838. doi:10.1080/10408398.2012.688076. ISSN\\xa01040-8398. PMID\\xa024915330. S2CID\\xa025728864.\\n\\n^ Main, Sandy. \"Rapini/Broccoli Raab\". sonomamg.ucanr.edu. Archived from the original on 30 May 2015. Retrieved 13 September 2021.\\n\\n^ Missouri Botanical Garden. \"Brassica oleracea var. italica\". tropicos.org. Missouri Botanical Garden. Retrieved 18 October 2023.\\n\\n^ \"Broccoli\". Online Etymology Dictionary. 2022. Archived from the original on 19 January 2023. Retrieved 18 January 2023.\\n\\n^ Maggioni, Lorenzo; Bothmer, Roland; Poulsen, Gert; Branca, Ferdinando (2010). \"Origin and Domestication of Cole Crops (Brassica oleracea L.): Linguistic and Literary Considerations\". Economic Botany. 64 (2): 109–123. doi:10.1007/s12231-010-9115-2. hdl:10568/121874. S2CID\\xa02771884.\\n\\n^ Nonnecke, Ib (November 1989). Vegetable Production. Springer-Verlag New York, LLC. p.\\xa0394. ISBN\\xa0978-0-442-26721-6. Archived from the original on 9 March 2023. Retrieved 6 October 2020.\\n\\n^ a b c d e Stansell, Zachary; Björkman, Thomas (1 October 2020). \"From landrace to modern hybrid broccoli: the genomic and morphological domestication syndrome within a diverse B. oleracea collection\". Horticulture Research. 7 (1): 159. Bibcode:2020HorR....7..159S. doi:10.1038/s41438-020-00375-0. ISSN\\xa02052-7276. PMC\\xa07528014. PMID\\xa033082966. S2CID\\xa0224724369.\\n\\n^ Stansell, Zachary; Hyma, Katie; Fresnedo-Ramírez, Jonathan; Sun, Qi; Mitchell, Sharon; Björkman, Thomas; Hua, Jian (1 July 2018). \"Genotyping-by-sequencing of Brassica oleracea vegetables reveals unique phylogenetic patterns, population structure and domestication footprints\". Horticulture Research. 5 (1): 38. Bibcode:2018HorR....5...38S. doi:10.1038/s41438-018-0040-3. ISSN\\xa02052-7276. PMC\\xa06026498. PMID\\xa029977574.\\n\\n^ a b \"Broccoli, plant\". Encyclopædia Britannica. 3 March 2025. Retrieved 15 April 2025.\\n\\n^ \"Broccoli\". Royal Horticultural Society. Archived from the original on 24 March 2020. Retrieved 24 March 2020.\\n\\n^ Branca, Ferdinando (2008), Prohens, Jaime; Nuez, Fernando (eds.), \"Cauliflower and Broccoli\", Vegetables I: Asteraceae, Brassicaceae, Chenopodicaceae, and Cucurbitaceae, Handbook of Plant Breeding, vol.\\xa01, New York, NY: Springer, pp.\\xa0151–186, doi:10.1007/978-0-387-30443-4_5, ISBN\\xa0978-0-387-30443-4\\n\\n^ \"British research leads to UK-wide launch of Beneforté broccoli\". Quadram Institute. 25 June 2012. Retrieved 24 March 2020.\\n\\n^ Dixon, G.R. (2007). Vegetable brassicas and related crucifers. Wallingford: CABI. ISBN\\xa0978-0-85199-395-9.\\n\\n^ Stansell, Zachary; Farnham, Mark; Björkman, Thomas (2019). \"Complex Horticultural Quality Traits in Broccoli Are Illuminated by Evaluation of the Immortal BolTBDH Mapping Population\". Frontiers in Plant Science. 10 1104. Bibcode:2019FrPS...10.1104S. doi:10.3389/fpls.2019.01104. ISSN\\xa01664-462X. PMC\\xa06759917. PMID\\xa031620146.\\n\\n^ Bjorkman, T.; Pearson, K. J. (1 January 1998). \"High temperature arrest of inflorescence development in broccoli (Brassica oleracea var. italica L.)\". Journal of Experimental Botany. 49 (318): 101–106. doi:10.1093/jxb/49.318.101. ISSN\\xa00022-0957.\\n\\n^ \"Broccoli (and cauliflower) production in 2023, Crops/Regions/World list/Production Quantity/Year (pick lists)\". UN Food and Agriculture Organization, Corporate Statistical Database (FAOSTAT). 2025. Retrieved 15 April 2025.\\n\\n^ Smith, Powell (June 1999). \"HGIC 1301 Broccoli\". Clemson University. Archived from the original on 26 April 2009. Retrieved 25 August 2009.\\n\\n^ Branham, Sandra E.; Stansell, Zachary J.; Couillard, David M.; Farnham, Mark W. (1 March 2017). \"Quantitative trait loci mapping of heat tolerance in broccoli (Brassica oleracea var. italica) using genotyping-by-sequencing\". Theoretical and Applied Genetics. 130 (3): 529–538. doi:10.1007/s00122-016-2832-x. ISSN\\xa01432-2242. PMID\\xa027900399. S2CID\\xa02361874.\\n\\n^ Liptay, Albert (1988). Broccoli.\\n\\n^ \"Broccoli production\". Pennsylvania State University, Extension Service. 20 June 2005. Archived from the original on 19 February 2021. Retrieved 10 February 2021.\\n\\n^ \"Broccoli\". Agricultural Marketing Resource Center, US Department of Agriculture. 1 June 2018. Archived from the original on 1 July 2019. Retrieved 27 June 2019.\\n\\n^ United States Food and Drug Administration (2024). \"Daily Value on the Nutrition and Supplement Facts Labels\". FDA. Archived from the original on 27 March 2024. Retrieved 28 March 2024.\\n\\n^ \"TABLE 4-7 Comparison of Potassium Adequate Intakes Established in This Report to Potassium Adequate Intakes Established in the 2005 DRI Report\". p.\\xa0120. In: Stallings, Virginia A.; Harrison, Meghan; Oria, Maria, eds. (2019). \"Potassium: Dietary Reference Intakes for Adequacy\". Dietary Reference Intakes for Sodium and Potassium. pp.\\xa0101–124. doi:10.17226/25353. ISBN\\xa0978-0-309-48834-1. PMID\\xa030844154. NCBI\\xa0NBK545428.\\n\\n^ Farnham, Mark W.; Kopsell, Dean A. (August 2009). \"Importance of Genotype on Carotenoid and Chlorophyll Levels in Broccoli Heads\". HortScience. 44 (5): 1248-1253. doi:10.21273/HORTSCI.44.5.1248. Retrieved 18 October 2023. PDF\\n\\n^ Bell, Luke; Oloyede, Omobolanle O.; Lignou, Stella; Wagstaff, Carol; Methven, Lisa (30 April 2018). \"Taste and flavor perceptions of glucosinolates, isothiocyanates, and related compounds\" (PDF). Molecular Nutrition and Food Research. 62 (18) 1700990. doi:10.1002/mnfr.201700990. ISSN\\xa01613-4125. PMID\\xa029578640. S2CID\\xa0206265098.\\n\\n^ Lipchock SV, Mennella JA, Spielman AI, Reed DR (2013). \"Human bitter perception correlates with bitter receptor messenger RNA expression in taste cells\". Am J Clin Nutr. 98 (4): 1136–43. doi:10.3945/ajcn.113.066688. PMC\\xa03778862. PMID\\xa024025627.\\n\\n^ Heitzman, J. Richard; Heitzman, Joan E. (1996). Love, Kathy; Larsen, LuAnne (eds.). Butterflies and moths of Missouri. Rathert, Jim (principal photographer). Jefferson City, MO: Missouri Dept. of Conservation. ISBN\\xa01-887247-06-8.\\n\\n^ \"Cabbage, Broccoli & Other Cole Crop Insect Pests\". Home & Garden Information Center. South Carolina: Clemson University. 4 May 2020. Archived from the original on 7 December 2020. Retrieved 28 November 2020.\\n\\n\\nExternal links\\n\\n\\n\\nWikimedia Commons has media related to Broccoli.\\n\\nPROTAbase on Brassica oleracea (cauliflower and broccoli) (archived 10 February 2016)\\nList of North American broccoli cultivars, USDA/ARS Vegetable Laboratory\\nvteBrassica oleraceaBrassica oleracea\\nAcephala group\\nBroccoflower\\nBroccoli\\nBroccoli sprouts\\nBroccolini\\nBrussels sprout\\nCabbage\\nCauliflower\\nCollard greens\\nGai lan\\nKale\\nKalette\\nKohlrabi\\nRed cabbage\\nRomanesco broccoli\\nSavoy cabbage\\nSpring greens\\nSee also\\nList of broccoli dishes\\nList of cabbage dishes\\n\\nTaxon identifiersBrassica oleracea var. italica\\nWikidata: Q47722\\nWikispecies: Brassica oleracea var. italica\\nEcocrop: 556\\nEPPO: BRSOK\\nFNA: 241000001\\nFoC: 241000001\\nGBIF: 3042863\\nGRIN: 105447\\niNaturalist: 315267\\nIPNI: 77061634-1\\nITIS: 530961\\nNCBI: 36774\\nNZOR: 098901f1-e644-4c09-80fa-e8c8fe50f1fd\\nNZPCN: 4265\\nOpen Tree of Life: 209048\\nPLANTS: BROLI\\nPOWO: urn:lsid:ipni.org:names:77061634-1\\nTropicos: 4102963\\nWFO: wfo-0000571404\\n\\nAuthority control databases InternationalGNDNationalJapanIsraelOtherYale LUX\\n\\n\\n\\n\\nRetrieved from \"https://en.wikipedia.org/w/index.php?title=Broccoli&oldid=1316538492\"\\nCategories: BrassicaCrops originating from EuropeEdible plantsFood plant cultivarsInflorescence vegetablesItalian words and phrasesHidden categories: Articles with short descriptionShort description matches WikidataWikipedia pages semi-protected against vandalismUse dmy dates from May 2021Articles with \\'species\\' microformatsArticles containing Italian-language textCommons category link is on Wikidata\\n'"
      ]
     },
     "execution_count": 30,
     "metadata": {},
     "output_type": "execute_result"
    }
   ],
   "source": [
    "## using json\n",
    "\n",
    "import json\n",
    "\n",
    "with open(\"my_test_network.json\", \"w\") as f:\n",
    "    json.dump(my_dictionary_page, f)"
   ]
  }
 ],
 "metadata": {
  "kernelspec": {
   "display_name": ".venv",
   "language": "python",
   "name": "python3"
  },
  "language_info": {
   "codemirror_mode": {
    "name": "ipython",
    "version": 3
   },
   "file_extension": ".py",
   "mimetype": "text/x-python",
   "name": "python",
   "nbconvert_exporter": "python",
   "pygments_lexer": "ipython3",
   "version": "3.13.8"
  }
 },
 "nbformat": 4,
 "nbformat_minor": 5
}
